{
  "cells": [
    {
      "cell_type": "markdown",
      "metadata": {
        "id": "CkxcyKnSPOv0"
      },
      "source": [
        "# Principles of CNN\n",
        "\n",
        "Many materials are from Deep Learning book (Ian Goodfellow, Yoshua Bengio and Aaron Courville)\n",
        "\n",
        "Why does CNN perform better than MLP (Multilayer Perceptron) in various modalities? In this notebook, you will understand the principle of CNN through various examples and experiments. The three most distinct features that differentiate CNN from MLP are as follows:\n",
        "\n",
        "1. **sparse interactions** : Unlike the MLP model, which had to calculate the interactions between all neurons using matrix multiplication, CNN has sparse interactions. This is achieved by using smaller kernels in comparison to the resolution of the input image. This means that CNN can greatly reduce the amount of computation and memory requirements and improve statistical efficiency. This is also called sparse connectivity or sparse weights.\n",
        "\n",
        "\n",
        "2. **parameter sharing** : Parameter sharing means using the same parameters more than once within a model. In the case of MLP, all parameters are used only once when calculating the output within one layer. This reduces the memory used to store parameters.\n",
        "\n",
        "\n",
        "3. **translational equivariance** : Parameter sharing in convolution operation makes the convolution layer equivariant to translation of given input. When a function is equivariant to some operation, it means that when the input changes as much as the given operation, the output of the function also changes in the same way. To explain it more formally, if a function $f(x)$ is equivariant to a transformation $g(x)$, then $f(g(x)) = g(f(x))$. In the case of convolution, $g(x)$ is the translation of the input $x$.\n",
        "\n",
        "    While convolution is equivariant to translation, it is not equivariant to other transformations such as rotation, scale, or warping. Therefore, various regularizations such as data augmentations are used to obtain CNN functions that are robust to such transformations during training. However, this will not be covered in this notebook.\n",
        "\n"
      ]
    },
    {
      "cell_type": "code",
      "execution_count": 1,
      "metadata": {
        "id": "JNB5XPoVPOv2"
      },
      "outputs": [],
      "source": [
        "# As usual, a bit of setup\n",
        "\n",
        "import IPython\n",
        "from IPython.display import display, HTML\n",
        "\n",
        "import torch\n",
        "import torch.nn as nn\n",
        "import torch.optim as optim\n",
        "import torch.nn.functional as F\n",
        "from torch.utils.data import DataLoader\n",
        "from torch.utils.data import sampler\n",
        "\n",
        "import torchvision.datasets as dset\n",
        "import torchvision.transforms as T\n",
        "%matplotlib inline\n",
        "\n",
        "import matplotlib.pyplot as plt\n",
        "import numpy as np\n",
        "import random\n",
        "\n",
        "seed = 7\n",
        "torch.manual_seed(seed)\n",
        "random.seed(seed)\n",
        "np.random.seed(seed)\n",
        "\n",
        "# for auto-reloading external modules\n",
        "# see http://stackoverflow.com/questions/1907993/autoreload-of-modules-in-ipython\n",
        "# %load_ext autoreload\n",
        "# %autoreload 2"
      ]
    },
    {
      "cell_type": "markdown",
      "metadata": {
        "id": "tuqj0p1SPOv3"
      },
      "source": [
        "## MLP vs CNN\n",
        "\n",
        "In this problem, we will learn why the properties that CNN have lead to better performance on the vision modality by comparing it with MLP.\n",
        "\n",
        "The number of parameters is the rule of thumb to compare the expressiveness of the neural network. So we are now comparing MLP and CNN that have the similar number of parameters. Let's see how the performance deviates."
      ]
    },
    {
      "cell_type": "markdown",
      "metadata": {
        "id": "s-OEOoPtPOv3"
      },
      "source": [
        "First, we load the CIFAR-10 dataset. This might take a couple minutes the first time you do it, but the files should stay cached after that.\n",
        "\n",
        "PyTorch provides convenient tools to automate the process of downloading\n",
        "common datasets, processing the data, and splitting into minibatches."
      ]
    },
    {
      "cell_type": "markdown",
      "metadata": {
        "id": "KRytExeRPOv4"
      },
      "source": [
        "You have an option to **use GPU by setting the flag to True below**. It is recommended, but not necessary to use GPU for this assignment. Note that if your computer does not have CUDA enabled, `torch.cuda.is_available()` will return False and this notebook will fallback to CPU mode.\n",
        "\n",
        "The global variables `dtype` and `device` will control the data types throughout this assignment.\n",
        "\n",
        "## Colab Users\n",
        "\n",
        "If you are using Colab, you need to manually switch to a GPU device. You can do this by clicking `Runtime -> Change runtime type` and selecting `GPU` under `Hardware Accelerator`. Note that you have to rerun the cells from the top since the kernel gets restarted upon switching runtimes."
      ]
    },
    {
      "cell_type": "code",
      "execution_count": 2,
      "metadata": {
        "id": "kuU1DDSYPOv4",
        "colab": {
          "base_uri": "https://localhost:8080/"
        },
        "outputId": "42cbdd60-b835-497e-cd2a-daf3329c2421"
      },
      "outputs": [
        {
          "output_type": "stream",
          "name": "stdout",
          "text": [
            "using device: cuda\n"
          ]
        }
      ],
      "source": [
        "USE_GPU = True\n",
        "\n",
        "dtype = torch.float32 # we will be using float throughout this tutorial\n",
        "\n",
        "if USE_GPU and torch.cuda.is_available():\n",
        "    device = torch.device('cuda')\n",
        "else:\n",
        "    device = torch.device('cpu')\n",
        "\n",
        "# Constant to control how frequently we print train loss\n",
        "print_every = 500\n",
        "\n",
        "print('using device:', device)"
      ]
    },
    {
      "cell_type": "markdown",
      "metadata": {
        "id": "r2TaUgumPOv6"
      },
      "source": [
        "## **Part A. Translational Equivariance**\n",
        "\n",
        "In this problem, we will check that CNN is translationally equivariant and MLP is not."
      ]
    },
    {
      "cell_type": "code",
      "execution_count": 3,
      "metadata": {
        "id": "jI6ELnlVPOv6"
      },
      "outputs": [],
      "source": [
        "## Some helpers\n",
        "def torch_to_numpy(tensor):\n",
        "    tensor = tensor.cpu().detach().numpy()\n",
        "    return tensor\n",
        "\n",
        "def preprocess_mnist_data(data):\n",
        "    # padding tuples: (padding_left, padding_right, padding_top, padding_bottom)\n",
        "    # data1 = F.pad(data, (0, 28, 0, 28), mode='constant', value=0)\n",
        "    # data2 = F.pad(data, (28, 0, 0, 28), mode='constant', value=0)\n",
        "    # data3 = F.pad(data, (0, 28, 28, 0), mode='constant', value=0)\n",
        "    # data4 = F.pad(data, (28, 0, 28, 0), mode='constant', value=0)\n",
        "    # data = torch.cat((data1, data2, data3, data4), dim=0)\n",
        "\n",
        "    padded_data_list = []\n",
        "\n",
        "    for i in range(0, 28, 4):\n",
        "        for j in range(0, 28, 4):\n",
        "            padded_data_list.append(F.pad(data, (i, 28-i, j, 28-j), mode='constant', value=0))\n",
        "\n",
        "    padded_data = torch.stack(padded_data_list, dim=0)\n",
        "\n",
        "    return padded_data\n",
        "\n",
        "class CNN(nn.Module):\n",
        "    def __init__(self):\n",
        "        super().__init__()\n",
        "        self.conv1 = nn.Conv2d(1, 20, 3, 1, padding=1)\n",
        "        self.conv2 = nn.Conv2d(20, 40, 3, 1, padding=1)\n",
        "        self.conv3 = nn.Conv2d(40, 1, 3, 1, padding=1)\n",
        "        # self.conv4 = nn.Conv2d(40, 1, 3, 1, padding=1)\n",
        "    def forward(self, x):\n",
        "        x = F.relu(self.conv1(x))\n",
        "        x = F.relu(self.conv2(x))\n",
        "        x = F.relu(self.conv3(x))\n",
        "        # x = F.relu(self.conv4(x))\n",
        "        return x\n",
        "\n",
        "class MLP(nn.Module):\n",
        "    def __init__(self):\n",
        "        super().__init__()\n",
        "        self.fc1 = nn.Linear(56*56, 100)\n",
        "        self.fc2 = nn.Linear(100, 100)\n",
        "        self.fc3 = nn.Linear(100, 56*56)\n",
        "\n",
        "    def forward(self, x):\n",
        "        bs = x.shape[0]\n",
        "        x = x.flatten(start_dim=1)\n",
        "        x = F.relu(self.fc1(x))\n",
        "        x = F.relu(self.fc2(x))\n",
        "        x = F.relu(self.fc3(x))\n",
        "        x = x.reshape((bs, 1, 56, 56))\n",
        "\n",
        "        return x\n"
      ]
    },
    {
      "cell_type": "markdown",
      "metadata": {
        "id": "eqNYQPw4POv7"
      },
      "source": [
        "### Generate the sample data"
      ]
    },
    {
      "cell_type": "code",
      "execution_count": 4,
      "metadata": {
        "id": "wuCfMPkvPOv7",
        "colab": {
          "base_uri": "https://localhost:8080/"
        },
        "outputId": "d8e56902-6c94-4a35-94cc-2763f6e0c749"
      },
      "outputs": [
        {
          "output_type": "stream",
          "name": "stderr",
          "text": [
            "100%|██████████| 9.91M/9.91M [00:00<00:00, 20.1MB/s]\n",
            "100%|██████████| 28.9k/28.9k [00:00<00:00, 500kB/s]\n",
            "100%|██████████| 1.65M/1.65M [00:00<00:00, 4.54MB/s]\n",
            "100%|██████████| 4.54k/4.54k [00:00<00:00, 2.41MB/s]"
          ]
        },
        {
          "output_type": "stream",
          "name": "stdout",
          "text": [
            "torch.Size([49, 1, 56, 56])\n"
          ]
        },
        {
          "output_type": "stream",
          "name": "stderr",
          "text": [
            "\n"
          ]
        }
      ],
      "source": [
        "mnist_train = dset.MNIST('./deeplearning/datasets', train=True, download=True)\n",
        "sample_index = 12\n",
        "mnist_sample = mnist_train[sample_index][0]\n",
        "mnist_sample = T.functional.pil_to_tensor(mnist_sample)\n",
        "\n",
        "mnist_sample = preprocess_mnist_data(mnist_sample)\n",
        "print(mnist_sample.shape)"
      ]
    },
    {
      "cell_type": "markdown",
      "metadata": {
        "id": "TIIFR18GPOv7"
      },
      "source": [
        "### Visualize the output of MLP and CNN with different translations"
      ]
    },
    {
      "cell_type": "code",
      "execution_count": 5,
      "metadata": {
        "id": "b3hIi7dHPOv7"
      },
      "outputs": [],
      "source": [
        "# !pip3 install ipywidgets"
      ]
    },
    {
      "cell_type": "code",
      "execution_count": 6,
      "metadata": {
        "id": "LxGEIjPSPOv7"
      },
      "outputs": [],
      "source": [
        "from ipywidgets import interactive, widgets, Layout"
      ]
    },
    {
      "cell_type": "code",
      "execution_count": 7,
      "metadata": {
        "id": "M9m8i6fJPOv8"
      },
      "outputs": [],
      "source": [
        "cnn_model = CNN().to(device)\n",
        "mlp_model = MLP().to(device)\n",
        "\n",
        "mnist_sample = mnist_sample.to(device)\n",
        "# Convert to float32\n",
        "mnist_sample = mnist_sample.float()\n",
        "\n",
        "cnn_output = torch_to_numpy(cnn_model(mnist_sample))\n",
        "mlp_output = torch_to_numpy(mlp_model(mnist_sample))\n",
        "mnist_sample = torch_to_numpy(mnist_sample)"
      ]
    },
    {
      "cell_type": "code",
      "execution_count": 8,
      "metadata": {
        "id": "gbrfN8CwPOv8",
        "colab": {
          "base_uri": "https://localhost:8080/",
          "height": 475,
          "referenced_widgets": [
            "4df0d1c0041a4cf2ad808ee2ff4d60a7",
            "b2eff64483c14f35bf581e5335bd8b30",
            "8d65eda8737b4120897a6e9ebb145992",
            "25c55db380fc4fbfaa620939bc9bd1fd",
            "efd987b0bf0e4bb88a8608026720e87b",
            "b6ab80eaae5842949bc6ba1ff1c170c8",
            "64989a1a44db4f368a239eb7a63cef35"
          ]
        },
        "outputId": "d2a72b17-45eb-4493-ad23-9543835a0892"
      },
      "outputs": [
        {
          "output_type": "display_data",
          "data": {
            "text/plain": [
              "interactive(children=(IntSlider(value=0, description='i', max=48), Output()), _dom_classes=('widget-interact',…"
            ],
            "application/vnd.jupyter.widget-view+json": {
              "version_major": 2,
              "version_minor": 0,
              "model_id": "4df0d1c0041a4cf2ad808ee2ff4d60a7"
            }
          },
          "metadata": {}
        },
        {
          "output_type": "display_data",
          "data": {
            "text/plain": [
              "<Figure size 500x500 with 0 Axes>"
            ]
          },
          "metadata": {}
        }
      ],
      "source": [
        "fig = plt.figure(figsize=(5, 5))\n",
        "\n",
        "# Main update function for interactive plot\n",
        "def update_images(i):\n",
        "    fig.clear()\n",
        "    f, axarr = plt.subplots(1,3, figsize=(15, 5))\n",
        "\n",
        "    # Show the images\n",
        "    axarr[0].imshow(mnist_sample[i, 0, :, :])\n",
        "    axarr[1].imshow(cnn_output[i, 0, :, :])\n",
        "    axarr[2].imshow(mlp_output[i, 0, :, :])\n",
        "\n",
        "    # Set the titles\n",
        "    axarr[0].set_title('Input Image')\n",
        "    axarr[1].set_title('CNN Output')\n",
        "    axarr[2].set_title('MLP Output')\n",
        "\n",
        "    plt.axis('off')\n",
        "    plt.show()\n",
        "\n",
        "# Create interactive plot\n",
        "ip = interactive(update_images, i=widgets.IntSlider(min=0, max=48, step=1, value=0))\n",
        "ip"
      ]
    },
    {
      "cell_type": "markdown",
      "metadata": {
        "id": "QivKjR8jPOv8"
      },
      "source": [
        "#### Q. What do you observe about the CNN outputs? Why is it different from the case of the MLP?\n",
        "\n",
        "A.\n",
        "\n",
        "#### Q. Note that even though the CNN is not trained, the feature maps not only are still translationally equivariant but also extract a quite good features. Why is it so?\n",
        "\n",
        "A.\n"
      ]
    },
    {
      "cell_type": "markdown",
      "metadata": {
        "id": "ApoTwjRHPOv4"
      },
      "source": [
        "## **Part B. Training CNN and MLP on CIFAR10**\n",
        "\n",
        "In this part, we will be training MLP and CNN networks on CIFAR10 dataset (https://www.cs.toronto.edu/~kriz/cifar.html)"
      ]
    },
    {
      "cell_type": "code",
      "execution_count": 9,
      "metadata": {
        "id": "pYXzVOtMPOv4",
        "colab": {
          "base_uri": "https://localhost:8080/"
        },
        "outputId": "c46eb718-b0fd-4a2f-852e-6d24928a58bd"
      },
      "outputs": [
        {
          "output_type": "stream",
          "name": "stderr",
          "text": [
            "100%|██████████| 170M/170M [02:05<00:00, 1.36MB/s]\n"
          ]
        }
      ],
      "source": [
        "NUM_TRAIN = 49000\n",
        "\n",
        "# The torchvision.transforms package provides tools for preprocessing data\n",
        "# and for performing data augmentation; here we set up a transform to\n",
        "# preprocess the data by subtracting the mean RGB value and dividing by the\n",
        "# standard deviation of each RGB value; we've hardcoded the mean and std.\n",
        "# If we want to add data augmentations, torchvision also offers different\n",
        "# transformations that we can compose in here, though we would need to be sure\n",
        "# to have two sets of transformations: one with data augmentation for the\n",
        "# training loaders, and one without for the test and validation sets.\n",
        "transform = T.Compose([\n",
        "                T.ToTensor(),\n",
        "                T.Normalize((0.4914, 0.4822, 0.4465), (0.2023, 0.1994, 0.2010))\n",
        "            ])\n",
        "\n",
        "# We set up a Dataset object for each split (train / val / test); Datasets load\n",
        "# training examples one at a time, so we wrap each Dataset in a DataLoader which\n",
        "# iterates through the Dataset and forms minibatches. We divide the CIFAR-10\n",
        "# training set into train and val sets by passing a Sampler object to the\n",
        "# DataLoader telling how it should sample from the underlying Dataset.\n",
        "cifar10_train = dset.CIFAR10('./deeplearning/datasets', train=True, download=True,\n",
        "                             transform=transform)\n",
        "loader_train = DataLoader(cifar10_train, batch_size=64,\n",
        "                          sampler=sampler.SubsetRandomSampler(range(NUM_TRAIN)))\n",
        "\n",
        "cifar10_val = dset.CIFAR10('./deeplearning/datasets', train=True, download=True,\n",
        "                           transform=transform)\n",
        "loader_val = DataLoader(cifar10_val, batch_size=64,\n",
        "                        sampler=sampler.SubsetRandomSampler(range(NUM_TRAIN, 50000)))\n",
        "\n",
        "cifar10_test = dset.CIFAR10('./deeplearning/datasets', train=False, download=True,\n",
        "                            transform=transform)\n",
        "loader_test = DataLoader(cifar10_test, batch_size=64)"
      ]
    },
    {
      "cell_type": "markdown",
      "metadata": {
        "id": "hXnw6YCM6YNZ"
      },
      "source": [
        "### Training Helpers"
      ]
    },
    {
      "cell_type": "code",
      "execution_count": 10,
      "metadata": {
        "id": "PJZy86kqPOv5"
      },
      "outputs": [],
      "source": [
        "def check_valid_accuracy(loader, model):\n",
        "    # print('Checking accuracy on validation set')\n",
        "    if not loader.dataset.train:\n",
        "        print('Checking accuracy on test set')\n",
        "    num_correct = 0\n",
        "    num_samples = 0\n",
        "    model.eval()  # set model to evaluation mode\n",
        "    with torch.no_grad():\n",
        "        for x, y in loader:\n",
        "            x = x.to(device=device, dtype=dtype)  # move to device, e.g. GPU\n",
        "            y = y.to(device=device, dtype=torch.long)\n",
        "            scores = model(x)\n",
        "            _, preds = scores.max(1)\n",
        "            num_correct += (preds == y).sum()\n",
        "            num_samples += preds.size(0)\n",
        "        acc = float(num_correct) / num_samples\n",
        "        # print('Got %d / %d correct (%.2f)' % (num_correct, num_samples, 100 * acc))\n",
        "    return acc\n",
        "\n",
        "def train_model(model, optimizer, epochs=1):\n",
        "    \"\"\"\n",
        "    Train a model on CIFAR-10 using the PyTorch Module API and prints model\n",
        "    accuracies during training.\n",
        "\n",
        "    Inputs:\n",
        "    - model: A PyTorch Module giving the model to train.\n",
        "    - optimizer: An Optimizer object we will use to train the model\n",
        "    - epochs: (Optional) A Python integer giving the number of epochs to train for\n",
        "\n",
        "    Returns: Lists of validation accuracies at the end of each epoch.\n",
        "    \"\"\"\n",
        "    model = model.to(device=device)  # move the model parameters to CPU/GPU\n",
        "    train_accs = []\n",
        "    val_accs = []\n",
        "    for e in range(epochs):\n",
        "        for t, (x, y) in enumerate(loader_train):\n",
        "            model.train()  # put model to training mode\n",
        "            x = x.to(device=device, dtype=dtype)  # move to device, e.g. GPU\n",
        "            y = y.to(device=device, dtype=torch.long)\n",
        "\n",
        "            scores = model(x)\n",
        "            loss = F.cross_entropy(scores, y)\n",
        "\n",
        "            # Zero out all of the gradients for the variables which the optimizer\n",
        "            # will update.\n",
        "            optimizer.zero_grad()\n",
        "\n",
        "            # This is the backwards pass: compute the gradient of the loss with\n",
        "            # respect to each trainable parameter of the model.\n",
        "            loss.backward()\n",
        "\n",
        "            # Actually update the parameters of the model using the gradients\n",
        "            # computed by the backwards pass.\n",
        "            optimizer.step()\n",
        "\n",
        "            if t % print_every == 0:\n",
        "                acc = check_valid_accuracy(loader_val, model)\n",
        "                print(f\"Epoch [{e}/{epochs}]: Iter {t}, loss = {round(loss.item(), 4)}, validation accuracy = {100*acc}%\")\n",
        "        val_accs.append(check_valid_accuracy(loader_val, model))\n",
        "    return val_accs"
      ]
    },
    {
      "cell_type": "markdown",
      "metadata": {
        "id": "3f5KiiFnPOv5"
      },
      "source": [
        "### Define 3 Layer MLP and CNN"
      ]
    },
    {
      "cell_type": "code",
      "execution_count": 11,
      "metadata": {
        "id": "w5mfl0AnPOv5"
      },
      "outputs": [],
      "source": [
        "class ThreeLayerConvNet(nn.Module):\n",
        "    def __init__(self, in_channel, channel_1, channel_2, num_classes):\n",
        "        super().__init__()\n",
        "        self.conv1 = nn.Conv2d(in_channel, channel_1, 5, stride=1, padding=2)\n",
        "        self.conv2 = nn.Conv2d(channel_1, channel_2, 3, stride=1, padding=1)\n",
        "        self.classifier = nn.Linear(channel_2 * 32 * 32, num_classes)\n",
        "\n",
        "    def forward(self, x):\n",
        "        x = self.conv1(x)\n",
        "        x = F.relu(x)\n",
        "        x = self.conv2(x)\n",
        "        x = F.relu(x)\n",
        "        x = x.flatten(start_dim=1)\n",
        "        x = self.classifier(x)\n",
        "\n",
        "        return x\n",
        "\n",
        "class ThreeLayerMLP(nn.Module):\n",
        "    def __init__(self, input_size, hidden_size, num_classes):\n",
        "        super().__init__()\n",
        "        self.fc1 = nn.Linear(input_size, hidden_size)\n",
        "        self.fc2 = nn.Linear(hidden_size, hidden_size)\n",
        "        self.classifier = nn.Linear(hidden_size, num_classes)\n",
        "\n",
        "    def forward(self, x):\n",
        "        x = x.flatten(start_dim=1)\n",
        "        x = self.fc1(x)\n",
        "        x=  F.relu(x)\n",
        "        x = self.fc2(x)\n",
        "        x = F.relu(x)\n",
        "        x = self.classifier(x)\n",
        "\n",
        "        return x"
      ]
    },
    {
      "cell_type": "markdown",
      "metadata": {
        "id": "GWyXQQC4POv6"
      },
      "source": [
        "### Count the number of parameters\n",
        "\n",
        "Note that with the given architecture hyperparameters, the number of parameters of MLP model is slightly larger than that of CNN."
      ]
    },
    {
      "cell_type": "code",
      "execution_count": 12,
      "metadata": {
        "id": "JvsLCSTCPOv6",
        "colab": {
          "base_uri": "https://localhost:8080/"
        },
        "outputId": "963fe151-3658-41cf-a197-050151fe282c"
      },
      "outputs": [
        {
          "output_type": "stream",
          "name": "stdout",
          "text": [
            "# of params in MLP model : 1201910\n",
            "# of params in CNN model : 1121710\n"
          ]
        }
      ],
      "source": [
        "def count_parameters(model):\n",
        "    num_params = sum(p.numel() for p in model.parameters())\n",
        "    return num_params\n",
        "\n",
        "input_size = 3 * 32 * 32\n",
        "in_channel = 3\n",
        "channel_1 = 100\n",
        "channel_2 = 100\n",
        "num_classes = 10\n",
        "hidden_size = 350\n",
        "\n",
        "mlp_model = ThreeLayerMLP(input_size, hidden_size, num_classes)\n",
        "cnn_model = ThreeLayerConvNet(in_channel, channel_1, channel_2, num_classes)\n",
        "\n",
        "num_params_mlp = count_parameters(mlp_model)\n",
        "num_params_cnn = count_parameters(cnn_model)\n",
        "\n",
        "print(f\"# of params in MLP model : {num_params_mlp}\")\n",
        "print(f\"# of params in CNN model : {num_params_cnn}\")\n"
      ]
    },
    {
      "cell_type": "markdown",
      "metadata": {
        "id": "bkTwgkDhPOv6"
      },
      "source": [
        "### Training the model\n",
        "Now we will train both MLP and CNN."
      ]
    },
    {
      "cell_type": "code",
      "execution_count": 13,
      "metadata": {
        "id": "bSQx4XexPOv6",
        "colab": {
          "base_uri": "https://localhost:8080/"
        },
        "outputId": "fae7e93f-5d3a-4d8c-e8d7-3a75ad05fbd5"
      },
      "outputs": [
        {
          "output_type": "stream",
          "name": "stdout",
          "text": [
            "Start MLP training...\n",
            "Epoch [0/5]: Iter 0, loss = 2.3296, validation accuracy = 9.700000000000001%\n",
            "Epoch [0/5]: Iter 500, loss = 1.7293, validation accuracy = 39.1%\n",
            "Epoch [1/5]: Iter 0, loss = 1.8127, validation accuracy = 42.699999999999996%\n",
            "Epoch [1/5]: Iter 500, loss = 1.633, validation accuracy = 46.9%\n",
            "Epoch [2/5]: Iter 0, loss = 1.166, validation accuracy = 47.199999999999996%\n",
            "Epoch [2/5]: Iter 500, loss = 1.1551, validation accuracy = 48.4%\n",
            "Epoch [3/5]: Iter 0, loss = 1.6232, validation accuracy = 50.3%\n",
            "Epoch [3/5]: Iter 500, loss = 1.2292, validation accuracy = 50.4%\n",
            "Epoch [4/5]: Iter 0, loss = 1.0983, validation accuracy = 52.0%\n",
            "Epoch [4/5]: Iter 500, loss = 1.306, validation accuracy = 51.7%\n",
            "Start CNN training...\n",
            "Epoch [0/5]: Iter 0, loss = 2.2981, validation accuracy = 15.7%\n",
            "Epoch [0/5]: Iter 500, loss = 1.4185, validation accuracy = 53.0%\n",
            "Epoch [1/5]: Iter 0, loss = 1.3846, validation accuracy = 55.400000000000006%\n",
            "Epoch [1/5]: Iter 500, loss = 1.2421, validation accuracy = 59.599999999999994%\n",
            "Epoch [2/5]: Iter 0, loss = 1.2693, validation accuracy = 56.8%\n",
            "Epoch [2/5]: Iter 500, loss = 1.0861, validation accuracy = 62.8%\n",
            "Epoch [3/5]: Iter 0, loss = 1.0746, validation accuracy = 63.0%\n",
            "Epoch [3/5]: Iter 500, loss = 1.0933, validation accuracy = 64.0%\n",
            "Epoch [4/5]: Iter 0, loss = 0.9957, validation accuracy = 64.60000000000001%\n",
            "Epoch [4/5]: Iter 500, loss = 0.7134, validation accuracy = 66.2%\n"
          ]
        }
      ],
      "source": [
        "learning_rate = 1e-2\n",
        "\n",
        "mlp_optimizer = optim.SGD(mlp_model.parameters(), lr=learning_rate)\n",
        "cnn_optimizer = optim.SGD(cnn_model.parameters(), lr=learning_rate)\n",
        "\n",
        "# total_epochs = 2\n",
        "total_epochs = 5\n",
        "\n",
        "print(\"Start MLP training...\")\n",
        "mlp_accuracy = train_model(mlp_model, mlp_optimizer, total_epochs)\n",
        "print(\"Start CNN training...\")\n",
        "cnn_accuracy = train_model(cnn_model, cnn_optimizer, total_epochs)"
      ]
    },
    {
      "cell_type": "markdown",
      "metadata": {
        "id": "CnhwA3scPOv6"
      },
      "source": [
        "#### Q. What is the final accuracy of MLP and CNN models? Why are they different?\n",
        "\n",
        "A.\n",
        "\n",
        "#### Q. What would happen if we froze the CNN backbone and trained only the final layer? How would you implement it?\n",
        "\n",
        "A."
      ]
    },
    {
      "cell_type": "markdown",
      "metadata": {
        "id": "HMguJ2ga27Nw"
      },
      "source": [
        "Below is one example implementation of training a linear layer on top of a frozen CNN backbone. Run the following cells and compare the accuracy and number of parameters with the previous results."
      ]
    },
    {
      "cell_type": "code",
      "execution_count": 14,
      "metadata": {
        "id": "MAzS2aSJ27Nw"
      },
      "outputs": [],
      "source": [
        "class ThreeLayerConvNetDetached(nn.Module):\n",
        "    def __init__(self, in_channel, channel_1, channel_2, num_classes):\n",
        "        super().__init__()\n",
        "        self.conv1 = nn.Conv2d(in_channel, channel_1, 5, stride=1, padding=2)\n",
        "        self.conv2 = nn.Conv2d(channel_1, channel_2, 3, stride=1, padding=1)\n",
        "        self.classifier = nn.Linear(channel_2 * 32 * 32, num_classes)\n",
        "\n",
        "    def forward(self, x):\n",
        "        x = self.conv1(x)\n",
        "        x = F.relu(x)\n",
        "        x = self.conv2(x)\n",
        "        x = F.relu(x)\n",
        "        x = x.flatten(start_dim=1).detach()\n",
        "        x = self.classifier(x)\n",
        "\n",
        "        return x"
      ]
    },
    {
      "cell_type": "code",
      "execution_count": 15,
      "metadata": {
        "id": "EssTfg9C27Nx"
      },
      "outputs": [],
      "source": [
        "detached_cnn_model = ThreeLayerConvNetDetached(in_channel, channel_1, channel_2, num_classes)\n",
        "detached_cnn_optimizer = optim.SGD(detached_cnn_model.parameters(), lr=learning_rate)"
      ]
    },
    {
      "cell_type": "code",
      "execution_count": 16,
      "metadata": {
        "colab": {
          "base_uri": "https://localhost:8080/"
        },
        "id": "dJzNIHGz27Nx",
        "outputId": "092b6d5c-748a-4769-ff6c-cfc1346a5002"
      },
      "outputs": [
        {
          "output_type": "stream",
          "name": "stdout",
          "text": [
            "Start Detached CNN training...\n",
            "Epoch [0/5]: Iter 0, loss = 2.3032, validation accuracy = 8.7%\n",
            "Epoch [0/5]: Iter 500, loss = 1.6827, validation accuracy = 43.3%\n",
            "Epoch [1/5]: Iter 0, loss = 1.7582, validation accuracy = 41.699999999999996%\n",
            "Epoch [1/5]: Iter 500, loss = 2.0645, validation accuracy = 41.3%\n",
            "Epoch [2/5]: Iter 0, loss = 1.5719, validation accuracy = 45.4%\n",
            "Epoch [2/5]: Iter 500, loss = 1.4043, validation accuracy = 46.2%\n",
            "Epoch [3/5]: Iter 0, loss = 1.2949, validation accuracy = 38.9%\n",
            "Epoch [3/5]: Iter 500, loss = 1.2024, validation accuracy = 51.7%\n",
            "Epoch [4/5]: Iter 0, loss = 1.598, validation accuracy = 47.8%\n",
            "Epoch [4/5]: Iter 500, loss = 1.2087, validation accuracy = 51.300000000000004%\n"
          ]
        }
      ],
      "source": [
        "print(\"Start Detached CNN training...\")\n",
        "detached_cnn_accuracy = train_model(detached_cnn_model, detached_cnn_optimizer, total_epochs)"
      ]
    },
    {
      "cell_type": "markdown",
      "metadata": {
        "id": "obSei5Mt27Nx"
      },
      "source": [
        "#### Q. How does the accuracy and number of parameters change compared to the previous MLP and CNN models? Why do you think this is?\n",
        "\n",
        "A.\n",
        "\n",
        "#### Q. How many trainable parameters are there in this new model?\n",
        "\n",
        "A."
      ]
    },
    {
      "cell_type": "markdown",
      "metadata": {
        "id": "6od6wJwJ27Nx"
      },
      "source": []
    }
  ],
  "metadata": {
    "accelerator": "GPU",
    "colab": {
      "gpuType": "T4",
      "provenance": []
    },
    "kernelspec": {
      "display_name": "Python 3",
      "name": "python3"
    },
    "language_info": {
      "codemirror_mode": {
        "name": "ipython",
        "version": 3
      },
      "file_extension": ".py",
      "mimetype": "text/x-python",
      "name": "python",
      "nbconvert_exporter": "python",
      "pygments_lexer": "ipython3",
      "version": "3.9.16"
    },
    "vscode": {
      "interpreter": {
        "hash": "9604dfe0e4c72ca50dc6ed9879659f643ef83f1cac17a709ea514e2e16450d20"
      }
    },
    "widgets": {
      "application/vnd.jupyter.widget-state+json": {
        "4df0d1c0041a4cf2ad808ee2ff4d60a7": {
          "model_module": "@jupyter-widgets/controls",
          "model_name": "VBoxModel",
          "model_module_version": "1.5.0",
          "state": {
            "_dom_classes": [
              "widget-interact"
            ],
            "_model_module": "@jupyter-widgets/controls",
            "_model_module_version": "1.5.0",
            "_model_name": "VBoxModel",
            "_view_count": null,
            "_view_module": "@jupyter-widgets/controls",
            "_view_module_version": "1.5.0",
            "_view_name": "VBoxView",
            "box_style": "",
            "children": [
              "IPY_MODEL_b2eff64483c14f35bf581e5335bd8b30",
              "IPY_MODEL_8d65eda8737b4120897a6e9ebb145992"
            ],
            "layout": "IPY_MODEL_25c55db380fc4fbfaa620939bc9bd1fd"
          }
        },
        "b2eff64483c14f35bf581e5335bd8b30": {
          "model_module": "@jupyter-widgets/controls",
          "model_name": "IntSliderModel",
          "model_module_version": "1.5.0",
          "state": {
            "_dom_classes": [],
            "_model_module": "@jupyter-widgets/controls",
            "_model_module_version": "1.5.0",
            "_model_name": "IntSliderModel",
            "_view_count": null,
            "_view_module": "@jupyter-widgets/controls",
            "_view_module_version": "1.5.0",
            "_view_name": "IntSliderView",
            "continuous_update": true,
            "description": "i",
            "description_tooltip": null,
            "disabled": false,
            "layout": "IPY_MODEL_efd987b0bf0e4bb88a8608026720e87b",
            "max": 48,
            "min": 0,
            "orientation": "horizontal",
            "readout": true,
            "readout_format": "d",
            "step": 1,
            "style": "IPY_MODEL_b6ab80eaae5842949bc6ba1ff1c170c8",
            "value": 0
          }
        },
        "8d65eda8737b4120897a6e9ebb145992": {
          "model_module": "@jupyter-widgets/output",
          "model_name": "OutputModel",
          "model_module_version": "1.0.0",
          "state": {
            "_dom_classes": [],
            "_model_module": "@jupyter-widgets/output",
            "_model_module_version": "1.0.0",
            "_model_name": "OutputModel",
            "_view_count": null,
            "_view_module": "@jupyter-widgets/output",
            "_view_module_version": "1.0.0",
            "_view_name": "OutputView",
            "layout": "IPY_MODEL_64989a1a44db4f368a239eb7a63cef35",
            "msg_id": "",
            "outputs": [
              {
                "output_type": "display_data",
                "data": {
                  "text/plain": "<Figure size 1500x500 with 3 Axes>",
                  "image/png": "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\n"
                },
                "metadata": {}
              }
            ]
          }
        },
        "25c55db380fc4fbfaa620939bc9bd1fd": {
          "model_module": "@jupyter-widgets/base",
          "model_name": "LayoutModel",
          "model_module_version": "1.2.0",
          "state": {
            "_model_module": "@jupyter-widgets/base",
            "_model_module_version": "1.2.0",
            "_model_name": "LayoutModel",
            "_view_count": null,
            "_view_module": "@jupyter-widgets/base",
            "_view_module_version": "1.2.0",
            "_view_name": "LayoutView",
            "align_content": null,
            "align_items": null,
            "align_self": null,
            "border": null,
            "bottom": null,
            "display": null,
            "flex": null,
            "flex_flow": null,
            "grid_area": null,
            "grid_auto_columns": null,
            "grid_auto_flow": null,
            "grid_auto_rows": null,
            "grid_column": null,
            "grid_gap": null,
            "grid_row": null,
            "grid_template_areas": null,
            "grid_template_columns": null,
            "grid_template_rows": null,
            "height": null,
            "justify_content": null,
            "justify_items": null,
            "left": null,
            "margin": null,
            "max_height": null,
            "max_width": null,
            "min_height": null,
            "min_width": null,
            "object_fit": null,
            "object_position": null,
            "order": null,
            "overflow": null,
            "overflow_x": null,
            "overflow_y": null,
            "padding": null,
            "right": null,
            "top": null,
            "visibility": null,
            "width": null
          }
        },
        "efd987b0bf0e4bb88a8608026720e87b": {
          "model_module": "@jupyter-widgets/base",
          "model_name": "LayoutModel",
          "model_module_version": "1.2.0",
          "state": {
            "_model_module": "@jupyter-widgets/base",
            "_model_module_version": "1.2.0",
            "_model_name": "LayoutModel",
            "_view_count": null,
            "_view_module": "@jupyter-widgets/base",
            "_view_module_version": "1.2.0",
            "_view_name": "LayoutView",
            "align_content": null,
            "align_items": null,
            "align_self": null,
            "border": null,
            "bottom": null,
            "display": null,
            "flex": null,
            "flex_flow": null,
            "grid_area": null,
            "grid_auto_columns": null,
            "grid_auto_flow": null,
            "grid_auto_rows": null,
            "grid_column": null,
            "grid_gap": null,
            "grid_row": null,
            "grid_template_areas": null,
            "grid_template_columns": null,
            "grid_template_rows": null,
            "height": null,
            "justify_content": null,
            "justify_items": null,
            "left": null,
            "margin": null,
            "max_height": null,
            "max_width": null,
            "min_height": null,
            "min_width": null,
            "object_fit": null,
            "object_position": null,
            "order": null,
            "overflow": null,
            "overflow_x": null,
            "overflow_y": null,
            "padding": null,
            "right": null,
            "top": null,
            "visibility": null,
            "width": null
          }
        },
        "b6ab80eaae5842949bc6ba1ff1c170c8": {
          "model_module": "@jupyter-widgets/controls",
          "model_name": "SliderStyleModel",
          "model_module_version": "1.5.0",
          "state": {
            "_model_module": "@jupyter-widgets/controls",
            "_model_module_version": "1.5.0",
            "_model_name": "SliderStyleModel",
            "_view_count": null,
            "_view_module": "@jupyter-widgets/base",
            "_view_module_version": "1.2.0",
            "_view_name": "StyleView",
            "description_width": "",
            "handle_color": null
          }
        },
        "64989a1a44db4f368a239eb7a63cef35": {
          "model_module": "@jupyter-widgets/base",
          "model_name": "LayoutModel",
          "model_module_version": "1.2.0",
          "state": {
            "_model_module": "@jupyter-widgets/base",
            "_model_module_version": "1.2.0",
            "_model_name": "LayoutModel",
            "_view_count": null,
            "_view_module": "@jupyter-widgets/base",
            "_view_module_version": "1.2.0",
            "_view_name": "LayoutView",
            "align_content": null,
            "align_items": null,
            "align_self": null,
            "border": null,
            "bottom": null,
            "display": null,
            "flex": null,
            "flex_flow": null,
            "grid_area": null,
            "grid_auto_columns": null,
            "grid_auto_flow": null,
            "grid_auto_rows": null,
            "grid_column": null,
            "grid_gap": null,
            "grid_row": null,
            "grid_template_areas": null,
            "grid_template_columns": null,
            "grid_template_rows": null,
            "height": null,
            "justify_content": null,
            "justify_items": null,
            "left": null,
            "margin": null,
            "max_height": null,
            "max_width": null,
            "min_height": null,
            "min_width": null,
            "object_fit": null,
            "object_position": null,
            "order": null,
            "overflow": null,
            "overflow_x": null,
            "overflow_y": null,
            "padding": null,
            "right": null,
            "top": null,
            "visibility": null,
            "width": null
          }
        }
      }
    }
  },
  "nbformat": 4,
  "nbformat_minor": 0
}